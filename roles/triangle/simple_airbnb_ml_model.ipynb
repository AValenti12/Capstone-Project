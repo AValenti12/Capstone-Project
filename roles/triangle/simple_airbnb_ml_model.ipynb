{
 "cells": [
  {
   "cell_type": "code",
   "execution_count": null,
   "id": "0aefe51c",
   "metadata": {},
   "outputs": [],
   "source": [
    "# Import our dependencies\n",
    "from sklearn.model_selection import train_test_split\n",
    "from sklearn.preprocessing import StandardScaler,OneHotEncoder\n",
    "import pandas as pd\n",
    "import tensorflow as tf\n",
    "import numpy as np\n",
    "import matplotlib.pyplot as plt\n",
    "\n",
    "from keras.models import Sequential\n",
    "from keras import layers\n",
    "from keras.layers import Dense"
   ]
  },
  {
   "cell_type": "code",
   "execution_count": null,
   "id": "dc02f8f8",
   "metadata": {},
   "outputs": [],
   "source": [
    "file_path = './resources/clean_listings.csv'\n",
    "#  Import and read the csv.\n",
    "df = pd.read_csv(file_path)\n",
    "df.head()"
   ]
  },
  {
   "cell_type": "code",
   "execution_count": null,
   "id": "c81a08a9",
   "metadata": {},
   "outputs": [],
   "source": [
    "# Split our preprocessed data into our features and target arrays\n",
    "# Create our features\n",
    "c = [i for i in df.columns if df[i].dtypes == object]\n",
    "df2 = pd.get_dummies(df, columns=c)\n",
    "X = df2\n",
    "# Create our target\n",
    "y = df['is_success']\n",
    "X_train, X_rem, y_train, y_rem = train_test_split(X,y, train_size=0.8)\n",
    "\n",
    "# split into train,test, and validation set\n",
    "X_valid, X_test, y_valid, y_test = train_test_split(X_rem,y_rem, test_size=0.5)\n",
    "\n",
    "X_train.shape"
   ]
  },
  {
   "cell_type": "code",
   "execution_count": null,
   "id": "fdce9141",
   "metadata": {},
   "outputs": [],
   "source": [
    "# Split our preprocessed data into our features and target arrays\n",
    "# Create our features\n",
    "c = [i for i in df.columns if df[i].dtypes == object]\n",
    "X = pd.get_dummies(df, columns=c).drop(['is_success','review_scores_value'],1)\n",
    "X.shape\n",
    "\n",
    "# Create our target\n",
    "y = df['is_success']\n",
    "X_train, X_rem, y_train, y_rem = train_test_split(X,y, train_size=0.8)\n",
    "\n",
    "# split into train,test, and validation set\n",
    "X_valid, X_test, y_valid, y_test = train_test_split(X_rem,y_rem, test_size=0.5)\n",
    "\n",
    "X_train.shape"
   ]
  },
  {
   "cell_type": "code",
   "execution_count": null,
   "id": "af64b36d",
   "metadata": {},
   "outputs": [],
   "source": [
    "# # Create a StandardScaler instances\n",
    "# scaler = StandardScaler()\n",
    "\n",
    "# # Fit the StandardScaler\n",
    "# X_scaler = scaler.fit(X_train)\n",
    "\n",
    "# # Scale the data\n",
    "# X_valid_scaled = X_scaler.transform(X_valid)\n",
    "# X_train_scaled = X_scaler.transform(X_train)\n",
    "# X_test_scaled = X_scaler.transform(X_test)"
   ]
  },
  {
   "cell_type": "code",
   "execution_count": null,
   "id": "171e6edf",
   "metadata": {},
   "outputs": [],
   "source": [
    "score = 1\n",
    "scores = [0,1]\n",
    "number_input_features = X_train.shape[1]"
   ]
  },
  {
   "cell_type": "code",
   "execution_count": null,
   "id": "582020ad",
   "metadata": {},
   "outputs": [],
   "source": [
    "# define the keras model\n",
    "model = Sequential()\n",
    "model.add(Dense(16, input_dim=number_input_features, activation=\"relu\"))\n",
    "model.add(Dense(8, activation=\"relu\"))\n",
    "model.add(Dense(1, activation=\"sigmoid\"))\n",
    "\n",
    "#summary table\n",
    "model.summary()"
   ]
  },
  {
   "cell_type": "code",
   "execution_count": null,
   "id": "a26d4728",
   "metadata": {},
   "outputs": [],
   "source": [
    "# compile the keras model\n",
    "model.compile(loss=\"binary_crossentropy\", optimizer=\"adam\", metrics=[\"accuracy\"])\n",
    "\n",
    "# fit the keras model on the dataset\n",
    "model.fit(X_train, y_train, epochs=8,\n",
    "                    validation_data=(X_valid, y_valid))\n",
    "\n",
    "# evaluate the keras model\n",
    "#_, accuracy = model.evaluate(X_test, y_test)\n",
    "#print('Accuracy: %.2f' % (accuracy*100))\n",
    "\n",
    "y_pred = np.argmax(model.predict(X_test), axis=1)\n",
    "\n",
    "predictions = np.array(scores)[y_pred]\n",
    "predictions\n",
    "# predtype=[i for i in range(500) if predictions[i] == score]\n",
    "\n",
    "# print('I thought these airbnbs would be highly rated',score)\n",
    "# for i in predtype:\n",
    "#      print(int(y_test[i]),end=' ')\n",
    "\n",
    "# wrong = [int(y_test[i]) for i in predtype if int(y_test[i])!=int(score)]\n",
    "# print('I got these wrong:')\n",
    "# print(wrong)"
   ]
  }
 ],
 "metadata": {
  "kernelspec": {
   "display_name": "mlenv",
   "language": "python",
   "name": "mlenv"
  },
  "language_info": {
   "codemirror_mode": {
    "name": "ipython",
    "version": 3
   },
   "file_extension": ".py",
   "mimetype": "text/x-python",
   "name": "python",
   "nbconvert_exporter": "python",
   "pygments_lexer": "ipython3",
   "version": "3.7.11"
  }
 },
 "nbformat": 4,
 "nbformat_minor": 5
}
